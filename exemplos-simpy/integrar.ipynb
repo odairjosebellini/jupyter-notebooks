from sympy import *
x,f=symbols("x f")
init_printing() # Para mostrar num formato mais bonito a saída.
f=8*x/(2*x**2-1)
integrate(f,x)
