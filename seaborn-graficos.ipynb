{

 "cells": [

  {

   "cell_type": "markdown",

   "metadata": {},

   "source": [

    "# Welcome to an example Binder"

   ]

  },

  {

   "cell_type": "markdown",

   "metadata": {},

   "source": [

    "This notebook uses `seaborn`, which we have because we included it in our `requirements.txt` file"

   ]

  },

  {

   "cell_type": "markdown",

   "metadata": {},

   "source": [

    "## Setup our plotting"

   ]

  },

  {

   "cell_type": "code",

   "execution_count": 1,

   "metadata": {

    "collapsed": true

   },

   "outputs": [],

   "source": [

    "%matplotlib inline\n",

    "import matplotlib.pyplot as plt\n",

    "import seaborn as sns"

   ]

  },

  {

   "cell_type": "markdown",

   "metadata": {},

   "source": [

    "## Setup our imports"

   ]

  },

  {

   "cell_type": "code",

   "execution_count": 2,

   "metadata": {

    "collapsed": true

   },

   "outputs": [],

   "source": [

    "from numpy import random\n",

    "from scipy.ndimage.filters import gaussian_filter"

   ]

  },

  {

   "cell_type": "markdown",

   "metadata": {},

